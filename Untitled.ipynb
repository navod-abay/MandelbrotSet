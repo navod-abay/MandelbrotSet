{
 "cells": [
  {
   "cell_type": "code",
   "execution_count": 1,
   "id": "67f29e6f-6eef-47dd-af6e-01867ac5667d",
   "metadata": {},
   "outputs": [],
   "source": [
    "import pandas as pd\n",
    "import matplotlib.pyplot as plt\n",
    "import numpy as np"
   ]
  },
  {
   "cell_type": "code",
   "execution_count": 10,
   "id": "c398c133-560d-45d8-8d69-3047564fc75f",
   "metadata": {},
   "outputs": [],
   "source": [
    "df = pd.read_csv(r\"./Set.csv\", header=None)"
   ]
  },
  {
   "cell_type": "code",
   "execution_count": 11,
   "id": "52dd965b-4b30-4e86-b70e-b193ed33f817",
   "metadata": {},
   "outputs": [
    {
     "data": {
      "text/plain": [
       "(1024, 1537)"
      ]
     },
     "execution_count": 11,
     "metadata": {},
     "output_type": "execute_result"
    }
   ],
   "source": [
    "df.head()\n",
    "df.shape"
   ]
  },
  {
   "cell_type": "code",
   "execution_count": 12,
   "id": "d037b09e-d46d-419b-90fd-db970800bf10",
   "metadata": {},
   "outputs": [
    {
     "data": {
      "text/html": [
       "<div>\n",
       "<style scoped>\n",
       "    .dataframe tbody tr th:only-of-type {\n",
       "        vertical-align: middle;\n",
       "    }\n",
       "\n",
       "    .dataframe tbody tr th {\n",
       "        vertical-align: top;\n",
       "    }\n",
       "\n",
       "    .dataframe thead th {\n",
       "        text-align: right;\n",
       "    }\n",
       "</style>\n",
       "<table border=\"1\" class=\"dataframe\">\n",
       "  <thead>\n",
       "    <tr style=\"text-align: right;\">\n",
       "      <th></th>\n",
       "      <th>0</th>\n",
       "      <th>1</th>\n",
       "      <th>2</th>\n",
       "      <th>3</th>\n",
       "      <th>4</th>\n",
       "      <th>5</th>\n",
       "      <th>6</th>\n",
       "      <th>7</th>\n",
       "      <th>8</th>\n",
       "      <th>9</th>\n",
       "      <th>...</th>\n",
       "      <th>1527</th>\n",
       "      <th>1528</th>\n",
       "      <th>1529</th>\n",
       "      <th>1530</th>\n",
       "      <th>1531</th>\n",
       "      <th>1532</th>\n",
       "      <th>1533</th>\n",
       "      <th>1534</th>\n",
       "      <th>1535</th>\n",
       "      <th>1536</th>\n",
       "    </tr>\n",
       "  </thead>\n",
       "  <tbody>\n",
       "    <tr>\n",
       "      <th>0</th>\n",
       "      <td>0</td>\n",
       "      <td>0</td>\n",
       "      <td>0</td>\n",
       "      <td>0</td>\n",
       "      <td>0</td>\n",
       "      <td>0</td>\n",
       "      <td>0</td>\n",
       "      <td>0</td>\n",
       "      <td>0</td>\n",
       "      <td>0</td>\n",
       "      <td>...</td>\n",
       "      <td>0</td>\n",
       "      <td>0</td>\n",
       "      <td>0</td>\n",
       "      <td>0</td>\n",
       "      <td>0</td>\n",
       "      <td>0</td>\n",
       "      <td>0</td>\n",
       "      <td>0</td>\n",
       "      <td>0</td>\n",
       "      <td>NaN</td>\n",
       "    </tr>\n",
       "    <tr>\n",
       "      <th>1</th>\n",
       "      <td>0</td>\n",
       "      <td>0</td>\n",
       "      <td>0</td>\n",
       "      <td>0</td>\n",
       "      <td>0</td>\n",
       "      <td>0</td>\n",
       "      <td>0</td>\n",
       "      <td>0</td>\n",
       "      <td>0</td>\n",
       "      <td>0</td>\n",
       "      <td>...</td>\n",
       "      <td>0</td>\n",
       "      <td>0</td>\n",
       "      <td>0</td>\n",
       "      <td>0</td>\n",
       "      <td>0</td>\n",
       "      <td>0</td>\n",
       "      <td>0</td>\n",
       "      <td>0</td>\n",
       "      <td>0</td>\n",
       "      <td>NaN</td>\n",
       "    </tr>\n",
       "    <tr>\n",
       "      <th>2</th>\n",
       "      <td>0</td>\n",
       "      <td>0</td>\n",
       "      <td>0</td>\n",
       "      <td>0</td>\n",
       "      <td>0</td>\n",
       "      <td>0</td>\n",
       "      <td>0</td>\n",
       "      <td>0</td>\n",
       "      <td>0</td>\n",
       "      <td>0</td>\n",
       "      <td>...</td>\n",
       "      <td>0</td>\n",
       "      <td>0</td>\n",
       "      <td>0</td>\n",
       "      <td>0</td>\n",
       "      <td>0</td>\n",
       "      <td>0</td>\n",
       "      <td>0</td>\n",
       "      <td>0</td>\n",
       "      <td>0</td>\n",
       "      <td>NaN</td>\n",
       "    </tr>\n",
       "    <tr>\n",
       "      <th>3</th>\n",
       "      <td>0</td>\n",
       "      <td>0</td>\n",
       "      <td>0</td>\n",
       "      <td>0</td>\n",
       "      <td>0</td>\n",
       "      <td>0</td>\n",
       "      <td>0</td>\n",
       "      <td>0</td>\n",
       "      <td>0</td>\n",
       "      <td>0</td>\n",
       "      <td>...</td>\n",
       "      <td>0</td>\n",
       "      <td>0</td>\n",
       "      <td>0</td>\n",
       "      <td>0</td>\n",
       "      <td>0</td>\n",
       "      <td>0</td>\n",
       "      <td>0</td>\n",
       "      <td>0</td>\n",
       "      <td>0</td>\n",
       "      <td>NaN</td>\n",
       "    </tr>\n",
       "    <tr>\n",
       "      <th>4</th>\n",
       "      <td>0</td>\n",
       "      <td>0</td>\n",
       "      <td>0</td>\n",
       "      <td>0</td>\n",
       "      <td>0</td>\n",
       "      <td>0</td>\n",
       "      <td>0</td>\n",
       "      <td>0</td>\n",
       "      <td>0</td>\n",
       "      <td>0</td>\n",
       "      <td>...</td>\n",
       "      <td>0</td>\n",
       "      <td>0</td>\n",
       "      <td>0</td>\n",
       "      <td>0</td>\n",
       "      <td>0</td>\n",
       "      <td>0</td>\n",
       "      <td>0</td>\n",
       "      <td>0</td>\n",
       "      <td>0</td>\n",
       "      <td>NaN</td>\n",
       "    </tr>\n",
       "  </tbody>\n",
       "</table>\n",
       "<p>5 rows × 1537 columns</p>\n",
       "</div>"
      ],
      "text/plain": [
       "   0     1     2     3     4     5     6     7     8     9     ...  1527  \\\n",
       "0     0     0     0     0     0     0     0     0     0     0  ...     0   \n",
       "1     0     0     0     0     0     0     0     0     0     0  ...     0   \n",
       "2     0     0     0     0     0     0     0     0     0     0  ...     0   \n",
       "3     0     0     0     0     0     0     0     0     0     0  ...     0   \n",
       "4     0     0     0     0     0     0     0     0     0     0  ...     0   \n",
       "\n",
       "   1528  1529  1530  1531  1532  1533  1534  1535  1536  \n",
       "0     0     0     0     0     0     0     0     0   NaN  \n",
       "1     0     0     0     0     0     0     0     0   NaN  \n",
       "2     0     0     0     0     0     0     0     0   NaN  \n",
       "3     0     0     0     0     0     0     0     0   NaN  \n",
       "4     0     0     0     0     0     0     0     0   NaN  \n",
       "\n",
       "[5 rows x 1537 columns]"
      ]
     },
     "execution_count": 12,
     "metadata": {},
     "output_type": "execute_result"
    }
   ],
   "source": [
    "df.head()"
   ]
  },
  {
   "cell_type": "code",
   "execution_count": 13,
   "id": "3d97121a-d6eb-4860-8849-bef9a566553b",
   "metadata": {},
   "outputs": [],
   "source": [
    "nparr =df.values"
   ]
  },
  {
   "cell_type": "code",
   "execution_count": 14,
   "id": "ff725766-5870-4f4b-ba38-67c4f3f41388",
   "metadata": {},
   "outputs": [],
   "source": [
    "nparr = nparr.flatten()"
   ]
  },
  {
   "cell_type": "code",
   "execution_count": 16,
   "id": "02488179-9664-4bd0-b776-33533ea83f74",
   "metadata": {},
   "outputs": [],
   "source": [
    "nparr = np.delete(nparr, np.where(nparr==0))"
   ]
  },
  {
   "cell_type": "code",
   "execution_count": 17,
   "id": "4e102760-2b15-4514-ae72-2e27f4a5bebd",
   "metadata": {},
   "outputs": [],
   "source": [
    "nparr = np.delete(nparr, np.where(nparr==-256))\n",
    "nparr = np.delete(nparr, np.where(nparr==128))\n"
   ]
  },
  {
   "cell_type": "raw",
   "id": "82703291-17de-470b-9746-1977591b70c8",
   "metadata": {},
   "source": [
    "nparr"
   ]
  },
  {
   "cell_type": "code",
   "execution_count": 20,
   "id": "f11fd6b5-39cf-43b1-b88c-8b1b51c2dbe7",
   "metadata": {},
   "outputs": [
    {
     "data": {
      "text/plain": [
       "array([-1., -1., -1., ..., -1., -1., -1.])"
      ]
     },
     "execution_count": 20,
     "metadata": {},
     "output_type": "execute_result"
    }
   ],
   "source": [
    "nparr = nparr[~np.isnan(nparr)]"
   ]
  },
  {
   "cell_type": "code",
   "execution_count": 29,
   "id": "1cb78d97-35fd-460a-b5ba-707dad5f91e1",
   "metadata": {},
   "outputs": [
    {
     "data": {
      "text/plain": [
       "(array([  2229.,   2350.,   2692.,   2818.,   3256.,   3450.,   4138.,\n",
       "          4426.,   5220.,   6054.,   7162.,   8392.,  10445.,  12417.,\n",
       "         15803.,  19765.,  26061.,  34827.,  52175.,  75698., 128353.,\n",
       "        213401., 398606.]),\n",
       " array([-23.        , -22.04347826, -21.08695652, -20.13043478,\n",
       "        -19.17391304, -18.2173913 , -17.26086957, -16.30434783,\n",
       "        -15.34782609, -14.39130435, -13.43478261, -12.47826087,\n",
       "        -11.52173913, -10.56521739,  -9.60869565,  -8.65217391,\n",
       "         -7.69565217,  -6.73913043,  -5.7826087 ,  -4.82608696,\n",
       "         -3.86956522,  -2.91304348,  -1.95652174,  -1.        ]),\n",
       " <BarContainer object of 23 artists>)"
      ]
     },
     "execution_count": 29,
     "metadata": {},
     "output_type": "execute_result"
    },
    {
     "data": {
      "image/png": "[encoded data removed]",
      "text/plain": [
       "<Figure size 640x480 with 1 Axes>"
      ]
     },
     "metadata": {},
     "output_type": "display_data"
    }
   ],
   "source": [
    "nparr = np.delete(nparr, np.where(nparr<-23))\n",
    "plt.hist(nparr, bins=23)"
   ]
  },
  {
   "cell_type": "code",
   "execution_count": 22,
   "id": "e2385883-ec6f-4b08-a7be-76b97318ac26",
   "metadata": {},
   "outputs": [],
   "source": [
    "plt.show()"
   ]
  }
 ],
 "metadata": {
  "kernelspec": {
   "display_name": "Python 3 (ipykernel)",
   "language": "python",
   "name": "python3"
  },
  "language_info": {
   "codemirror_mode": {
    "name": "ipython",
    "version": 3
   },
   "file_extension": ".py",
   "mimetype": "text/x-python",
   "name": "python",
   "nbconvert_exporter": "python",
   "pygments_lexer": "ipython3",
   "version": "3.12.0"
  }
 },
 "nbformat": 4,
 "nbformat_minor": 5
}
